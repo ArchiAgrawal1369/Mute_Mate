{
 "cells": [
  {
   "cell_type": "code",
   "execution_count": 2,
   "metadata": {},
   "outputs": [
    {
     "name": "stdout",
     "output_type": "stream",
     "text": [
      "pip 22.3.1 from c:\\Users\\Admin\\anaconda3\\lib\\site-packages\\pip (python 3.9)Note: you may need to restart the kernel to use updated packages.\n",
      "\n",
      "\n"
     ]
    }
   ],
   "source": [
    "pip --version\n"
   ]
  },
  {
   "cell_type": "code",
   "execution_count": 1,
   "metadata": {},
   "outputs": [
    {
     "name": "stdout",
     "output_type": "stream",
     "text": [
      "Collecting streamlit==1.0.0\n",
      "  Using cached streamlit-1.0.0-py2.py3-none-any.whl (8.3 MB)\n",
      "Requirement already satisfied: requests in c:\\users\\admin\\anaconda3\\lib\\site-packages (from streamlit==1.0.0) (2.28.1)\n",
      "Requirement already satisfied: protobuf!=3.11,>=3.6.0 in c:\\users\\admin\\anaconda3\\lib\\site-packages (from streamlit==1.0.0) (3.19.4)\n",
      "Requirement already satisfied: blinker in c:\\users\\admin\\anaconda3\\lib\\site-packages (from streamlit==1.0.0) (1.6.2)\n",
      "Requirement already satisfied: toml in c:\\users\\admin\\anaconda3\\lib\\site-packages (from streamlit==1.0.0) (0.10.2)\n",
      "Requirement already satisfied: altair>=3.2.0 in c:\\users\\admin\\anaconda3\\lib\\site-packages (from streamlit==1.0.0) (4.0.0)\n",
      "Requirement already satisfied: astor in c:\\users\\admin\\anaconda3\\lib\\site-packages (from streamlit==1.0.0) (0.8.1)\n",
      "Requirement already satisfied: pydeck>=0.1.dev5 in c:\\users\\admin\\anaconda3\\lib\\site-packages (from streamlit==1.0.0) (0.8.1b0)\n",
      "Requirement already satisfied: packaging in c:\\users\\admin\\anaconda3\\lib\\site-packages (from streamlit==1.0.0) (22.0)\n",
      "Requirement already satisfied: tornado>=5.0 in c:\\users\\admin\\anaconda3\\lib\\site-packages (from streamlit==1.0.0) (6.1)\n",
      "Requirement already satisfied: python-dateutil in c:\\users\\admin\\anaconda3\\lib\\site-packages (from streamlit==1.0.0) (2.8.2)\n",
      "Requirement already satisfied: gitpython!=3.1.19 in c:\\users\\admin\\anaconda3\\lib\\site-packages (from streamlit==1.0.0) (3.1.31)\n",
      "Requirement already satisfied: pandas>=0.21.0 in c:\\users\\admin\\anaconda3\\lib\\site-packages (from streamlit==1.0.0) (1.4.4)\n",
      "Requirement already satisfied: pyarrow in c:\\users\\admin\\anaconda3\\lib\\site-packages (from streamlit==1.0.0) (12.0.0)\n",
      "Requirement already satisfied: tzlocal in c:\\users\\admin\\anaconda3\\lib\\site-packages (from streamlit==1.0.0) (5.0.1)\n",
      "Requirement already satisfied: pillow>=6.2.0 in c:\\users\\admin\\anaconda3\\lib\\site-packages (from streamlit==1.0.0) (9.3.0)\n",
      "Requirement already satisfied: cachetools>=4.0 in c:\\users\\admin\\anaconda3\\lib\\site-packages (from streamlit==1.0.0) (5.1.0)\n",
      "Requirement already satisfied: validators in c:\\users\\admin\\anaconda3\\lib\\site-packages (from streamlit==1.0.0) (0.20.0)\n",
      "Requirement already satisfied: base58 in c:\\users\\admin\\anaconda3\\lib\\site-packages (from streamlit==1.0.0) (2.1.1)\n",
      "Requirement already satisfied: attrs in c:\\users\\admin\\anaconda3\\lib\\site-packages (from streamlit==1.0.0) (22.1.0)\n",
      "Requirement already satisfied: click<8.0,>=7.0 in c:\\users\\admin\\anaconda3\\lib\\site-packages (from streamlit==1.0.0) (7.1.2)\n",
      "Requirement already satisfied: watchdog in c:\\users\\admin\\anaconda3\\lib\\site-packages (from streamlit==1.0.0) (2.1.6)\n",
      "Requirement already satisfied: numpy in c:\\users\\admin\\anaconda3\\lib\\site-packages (from streamlit==1.0.0) (1.21.5)\n",
      "Requirement already satisfied: toolz in c:\\users\\admin\\anaconda3\\lib\\site-packages (from altair>=3.2.0->streamlit==1.0.0) (0.12.0)\n",
      "Requirement already satisfied: jsonschema in c:\\users\\admin\\anaconda3\\lib\\site-packages (from altair>=3.2.0->streamlit==1.0.0) (4.16.0)\n",
      "Requirement already satisfied: jinja2 in c:\\users\\admin\\anaconda3\\lib\\site-packages (from altair>=3.2.0->streamlit==1.0.0) (2.11.3)\n",
      "Requirement already satisfied: entrypoints in c:\\users\\admin\\anaconda3\\lib\\site-packages (from altair>=3.2.0->streamlit==1.0.0) (0.4)\n",
      "Requirement already satisfied: gitdb<5,>=4.0.1 in c:\\users\\admin\\anaconda3\\lib\\site-packages (from gitpython!=3.1.19->streamlit==1.0.0) (4.0.10)\n",
      "Requirement already satisfied: pytz>=2020.1 in c:\\users\\admin\\anaconda3\\lib\\site-packages (from pandas>=0.21.0->streamlit==1.0.0) (2022.7)\n",
      "Requirement already satisfied: six>=1.5 in c:\\users\\admin\\anaconda3\\lib\\site-packages (from python-dateutil->streamlit==1.0.0) (1.16.0)\n",
      "Requirement already satisfied: urllib3<1.27,>=1.21.1 in c:\\users\\admin\\anaconda3\\lib\\site-packages (from requests->streamlit==1.0.0) (1.26.13)\n",
      "Requirement already satisfied: certifi>=2017.4.17 in c:\\users\\admin\\anaconda3\\lib\\site-packages (from requests->streamlit==1.0.0) (2022.12.7)\n",
      "Requirement already satisfied: idna<4,>=2.5 in c:\\users\\admin\\anaconda3\\lib\\site-packages (from requests->streamlit==1.0.0) (3.4)\n",
      "Requirement already satisfied: charset-normalizer<3,>=2 in c:\\users\\admin\\anaconda3\\lib\\site-packages (from requests->streamlit==1.0.0) (2.0.4)\n",
      "Requirement already satisfied: tzdata in c:\\users\\admin\\anaconda3\\lib\\site-packages (from tzlocal->streamlit==1.0.0) (2023.3)\n",
      "Requirement already satisfied: decorator>=3.4.0 in c:\\users\\admin\\anaconda3\\lib\\site-packages (from validators->streamlit==1.0.0) (5.1.1)\n",
      "Requirement already satisfied: smmap<6,>=3.0.1 in c:\\users\\admin\\anaconda3\\lib\\site-packages (from gitdb<5,>=4.0.1->gitpython!=3.1.19->streamlit==1.0.0) (5.0.0)\n",
      "Requirement already satisfied: MarkupSafe>=0.23 in c:\\users\\admin\\anaconda3\\lib\\site-packages (from jinja2->altair>=3.2.0->streamlit==1.0.0) (2.0.1)\n",
      "Requirement already satisfied: pyrsistent!=0.17.0,!=0.17.1,!=0.17.2,>=0.14.0 in c:\\users\\admin\\anaconda3\\lib\\site-packages (from jsonschema->altair>=3.2.0->streamlit==1.0.0) (0.18.0)\n",
      "Installing collected packages: streamlit\n",
      "Successfully installed streamlit-1.0.0\n",
      "Note: you may need to restart the kernel to use updated packages.\n"
     ]
    },
    {
     "name": "stderr",
     "output_type": "stream",
     "text": [
      "WARNING: Ignoring invalid distribution -treamlit (c:\\users\\admin\\anaconda3\\lib\\site-packages)\n",
      "WARNING: Ignoring invalid distribution -treamlit (c:\\users\\admin\\anaconda3\\lib\\site-packages)\n",
      "WARNING: Ignoring invalid distribution -treamlit (c:\\users\\admin\\anaconda3\\lib\\site-packages)\n",
      "WARNING: Ignoring invalid distribution -treamlit (c:\\users\\admin\\anaconda3\\lib\\site-packages)\n",
      "WARNING: Ignoring invalid distribution -treamlit (c:\\users\\admin\\anaconda3\\lib\\site-packages)\n",
      "WARNING: Ignoring invalid distribution -treamlit (c:\\users\\admin\\anaconda3\\lib\\site-packages)\n",
      "WARNING: Ignoring invalid distribution -treamlit (c:\\users\\admin\\anaconda3\\lib\\site-packages)\n"
     ]
    }
   ],
   "source": [
    "pip install --upgrade streamlit==1.0.0"
   ]
  },
  {
   "cell_type": "code",
   "execution_count": null,
   "metadata": {},
   "outputs": [],
   "source": []
  }
 ],
 "metadata": {
  "kernelspec": {
   "display_name": "base",
   "language": "python",
   "name": "python3"
  },
  "language_info": {
   "codemirror_mode": {
    "name": "ipython",
    "version": 3
   },
   "file_extension": ".py",
   "mimetype": "text/x-python",
   "name": "python",
   "nbconvert_exporter": "python",
   "pygments_lexer": "ipython3",
   "version": "3.9.7"
  },
  "orig_nbformat": 4
 },
 "nbformat": 4,
 "nbformat_minor": 2
}
